{
 "cells": [
  {
   "cell_type": "markdown",
   "metadata": {},
   "source": [
    "# Insertion Sort Time Plot (ITERTOOLS)\n"
   ]
  },
  {
   "cell_type": "markdown",
   "metadata": {},
   "source": [
    "## Creación del arreglo de permutaciones por medio de ITERTOOLS\n"
   ]
  },
  {
   "cell_type": "code",
   "execution_count": 3,
   "metadata": {},
   "outputs": [
    {
     "name": "stdout",
     "output_type": "stream",
     "text": [
      "[(1, 2, 3), (1, 3, 2), (2, 1, 3), (2, 3, 1), (3, 1, 2), (3, 2, 1)]\n",
      "(2, 3, 1)\n",
      "3\n"
     ]
    }
   ],
   "source": [
    "#Libreria ITERTOOLS\n",
    "import itertools as itls\n",
    "#Libreria MATPLOTLIB \n",
    "import matplotlib.pyplot as plt\n",
    "#LIbreria NUMPY\n",
    "import numpy as np\n",
    "\n",
    "\n",
    "#Prueba de funcionamiento de Itertools\n",
    "arr=[1,2,3]\n",
    "print([x for x in itls.permutations(arr)])\n",
    "\n",
    "#Creación del arreglo contenedor de las permutaciones\n",
    "p_arr= [x for x in itls.permutations(arr)]\n",
    "copy=p_arr\n",
    "\n",
    "#Prueba de acceso al arreglo\n",
    "print(p_arr[3])\n",
    "print(p_arr[3][1])\n"
   ]
  },
  {
   "cell_type": "markdown",
   "metadata": {},
   "source": [
    "La siguiente función permite crear el arreglo de permutaciones para un n dado, siendo n el tamaño del arreglo por los metodos de itertools y código de Daniel Jimenez."
   ]
  },
  {
   "cell_type": "code",
   "execution_count": null,
   "metadata": {},
   "outputs": [],
   "source": [
    "\n",
    "    "
   ]
  },
  {
   "cell_type": "markdown",
   "metadata": {},
   "source": [
    "## Función Insertion Sort\n"
   ]
  },
  {
   "cell_type": "markdown",
   "metadata": {},
   "source": [
    "Esta implementación cuenta los pasos necesarios al momento de realizar insertion sort para ordenar una permitación del arreglo."
   ]
  },
  {
   "cell_type": "code",
   "execution_count": 4,
   "metadata": {},
   "outputs": [],
   "source": [
    "def isortsteps(A):\n",
    "    j=1\n",
    "    steps= 0\n",
    "    while j < len(A):\n",
    "        key=A[j]\n",
    "        i=j-1\n",
    "        while (i>=0) and (A[i]>key):\n",
    "            A[i+1]=A[i]\n",
    "            i=i-1\n",
    "            steps+=3\n",
    "        steps+=1\n",
    "        A[i+1]=key\n",
    "        steps+=4\n",
    "        j=j+1\n",
    "    steps+=1\n",
    "    return steps"
   ]
  },
  {
   "cell_type": "markdown",
   "metadata": {},
   "source": [
    "Debido a que al crear nuestro arreglo de permutaciones estas resultan ser tuplas, es necesario hacer un **_casting_** a lista para poder operar en ella."
   ]
  },
  {
   "cell_type": "code",
   "execution_count": 5,
   "metadata": {},
   "outputs": [
    {
     "data": {
      "text/plain": [
       "14"
      ]
     },
     "execution_count": 5,
     "metadata": {},
     "output_type": "execute_result"
    }
   ],
   "source": [
    "#prueba del insertion sort\n",
    "isortsteps(list(copy[2]))"
   ]
  },
  {
   "cell_type": "markdown",
   "metadata": {},
   "source": [
    "## Generando arreglo de pasos"
   ]
  },
  {
   "cell_type": "code",
   "execution_count": 6,
   "metadata": {},
   "outputs": [
    {
     "name": "stdout",
     "output_type": "stream",
     "text": [
      "[11, 14, 14, 17, 17, 20]\n"
     ]
    }
   ],
   "source": [
    "steps=list()\n",
    "for i in range (len(p_arr)):\n",
    "    steps.append(isortsteps(list(copy[i])))\n",
    "print(steps)"
   ]
  },
  {
   "cell_type": "markdown",
   "metadata": {},
   "source": [
    "## Grafica de los pasos "
   ]
  },
  {
   "cell_type": "code",
   "execution_count": 7,
   "metadata": {},
   "outputs": [
    {
     "name": "stdout",
     "output_type": "stream",
     "text": [
      "[11, 14, 14, 17, 17, 20, 11, 14, 14, 17, 17, 20]\n"
     ]
    },
    {
     "data": {
      "image/png": "[encoded data removed]",
      "text/plain": [
       "<Figure size 432x288 with 1 Axes>"
      ]
     },
     "metadata": {
      "needs_background": "light"
     },
     "output_type": "display_data"
    }
   ],
   "source": [
    "\n",
    "for i in range (len(p_arr)):\n",
    "    steps.append(isortsteps(list(copy[i])))\n",
    "print(steps)\n",
    "chart1=plt.hist(steps)\n"
   ]
  },
  {
   "cell_type": "markdown",
   "metadata": {},
   "source": [
    "# Insertion Sort Comp Plot (ITERTOOLS)"
   ]
  },
  {
   "cell_type": "markdown",
   "metadata": {},
   "source": [
    "Implementación de insertion sort teniendo en cuenta el **número de comparaciones**."
   ]
  },
  {
   "cell_type": "code",
   "execution_count": 8,
   "metadata": {},
   "outputs": [
    {
     "name": "stdout",
     "output_type": "stream",
     "text": [
      "[2, 3, 3, 4, 4, 5]\n"
     ]
    }
   ],
   "source": [
    "def isortcomp(A):\n",
    "    j=1\n",
    "    steps= 0\n",
    "    while j < len(A):\n",
    "        key=A[j]\n",
    "        i=j-1\n",
    "        while (i>=0) and (A[i]>key):\n",
    "            A[i+1]=A[i]\n",
    "            i=i-1\n",
    "            steps+=1\n",
    "        steps+=1\n",
    "            \n",
    "        A[i+1]=key\n",
    "        j=j+1\n",
    "    return steps\n",
    "\n",
    "\n",
    "comps=list()\n",
    "for i in range (len(p_arr)):\n",
    "    comps.append(isortcomp(list(copy[i])))\n",
    "print(comps)"
   ]
  },
  {
   "cell_type": "markdown",
   "metadata": {},
   "source": [
    "## Gráfica de las comparaciones"
   ]
  },
  {
   "cell_type": "code",
   "execution_count": 9,
   "metadata": {},
   "outputs": [
    {
     "data": {
      "image/png": "[encoded data removed]",
      "text/plain": [
       "<Figure size 432x288 with 1 Axes>"
      ]
     },
     "metadata": {
      "needs_background": "light"
     },
     "output_type": "display_data"
    }
   ],
   "source": [
    "chart2= plt.hist(comps)"
   ]
  },
  {
   "cell_type": "markdown",
   "metadata": {},
   "source": [
    "# Insertion Sort swap Plot (ITERTOOLS)"
   ]
  },
  {
   "cell_type": "markdown",
   "metadata": {},
   "source": [
    "Implementación de insertion sort teniendo en cuenta el **número de intercambios**."
   ]
  },
  {
   "cell_type": "code",
   "execution_count": 10,
   "metadata": {},
   "outputs": [
    {
     "name": "stdout",
     "output_type": "stream",
     "text": [
      "[0, 2, 1, 2, 2, 3]\n"
     ]
    }
   ],
   "source": [
    "def isortswap(A):\n",
    "    j=1\n",
    "    steps=0\n",
    "    while j < len(A):\n",
    "        key=A[j]\n",
    "        i=j-1\n",
    "        while (i>=0):\n",
    "            if A[i]>key:\n",
    "                A[i+1]=A[i]\n",
    "                steps+=1\n",
    "            i=i-1\n",
    "            \n",
    "        A[i+1]=key\n",
    "        j=j+1\n",
    "    return steps\n",
    "\n",
    "\n",
    "swaps=list()\n",
    "for i in range (len(p_arr)):\n",
    "    swaps.append(isortswap(list(copy[i])))\n",
    "print(swaps)"
   ]
  },
  {
   "cell_type": "markdown",
   "metadata": {},
   "source": [
    "## Gráfica de los intercambios"
   ]
  },
  {
   "cell_type": "code",
   "execution_count": 11,
   "metadata": {},
   "outputs": [
    {
     "data": {
      "image/png": "[encoded data removed]",
      "text/plain": [
       "<Figure size 432x288 with 1 Axes>"
      ]
     },
     "metadata": {
      "needs_background": "light"
     },
     "output_type": "display_data"
    }
   ],
   "source": [
    "chart3= plt.hist(swaps)"
   ]
  },
  {
   "cell_type": "markdown",
   "metadata": {},
   "source": [
    "# Insertion sort While Questions (ITERTOOLS)"
   ]
  },
  {
   "cell_type": "markdown",
   "metadata": {},
   "source": [
    "Implementación de insertion sort teniendo en cuenta **las preguntas realizadas por los ciclos**."
   ]
  },
  {
   "cell_type": "code",
   "execution_count": 12,
   "metadata": {},
   "outputs": [
    {
     "name": "stdout",
     "output_type": "stream",
     "text": [
      "[2, 4, 3, 4, 4, 5]\n"
     ]
    }
   ],
   "source": [
    "def isortWhileQ(A):\n",
    "    j=1\n",
    "    steps= 0\n",
    "    while j < len(A):\n",
    "        key=A[j]\n",
    "        i=j-1\n",
    "        while (i>=0):\n",
    "            if A[i]>key:\n",
    "                A[i+1]=A[i]\n",
    "                steps+=1\n",
    "            i=i-1\n",
    "        steps+=1    \n",
    "        A[i+1]=key\n",
    "        j=j+1\n",
    "    return steps\n",
    "\n",
    "\n",
    "wq=list()\n",
    "for i in range (len(p_arr)):\n",
    "    wq.append(isortWhileQ(list(copy[i])))\n",
    "print(wq)"
   ]
  },
  {
   "cell_type": "markdown",
   "metadata": {},
   "source": [
    "## Gráfica de las preguntas por ciclos"
   ]
  },
  {
   "cell_type": "code",
   "execution_count": 13,
   "metadata": {},
   "outputs": [
    {
     "data": {
      "image/png": "[encoded data removed]",
      "text/plain": [
       "<Figure size 432x288 with 1 Axes>"
      ]
     },
     "metadata": {
      "needs_background": "light"
     },
     "output_type": "display_data"
    }
   ],
   "source": [
    "chart4= plt.hist(wq)"
   ]
  },
  {
   "cell_type": "markdown",
   "metadata": {},
   "source": [
    "# Insertion Sort Time Plot (Daniel Jimenez)"
   ]
  },
  {
   "cell_type": "markdown",
   "metadata": {},
   "source": [
    "## Función generadora de permutaciones"
   ]
  },
  {
   "cell_type": "markdown",
   "metadata": {},
   "source": [
    "Implementación basada en el código de Daniel Jimenez para la generación de permutaciones uniformes."
   ]
  },
  {
   "cell_type": "code",
   "execution_count": 14,
   "metadata": {},
   "outputs": [
    {
     "name": "stdout",
     "output_type": "stream",
     "text": [
      "[[1, 2, 3], [1, 3, 2], [2, 1, 3], [2, 3, 1], [3, 2, 1], [3, 1, 2]]\n"
     ]
    }
   ],
   "source": [
    "#Función para hacer swap a dos elementos de un arreglo especificos\n",
    "def swap(arr, i, j):\n",
    "    t=arr[i]\n",
    "    arr[i]=arr[j]\n",
    "    arr[j]=t\n",
    "\n",
    "#Función para generar las permitaciones de un arreglo basado en el código de Daniel Jiménez\n",
    "def perm(arr, i, n, per):\n",
    "    if i==n:\n",
    "        lis=list()\n",
    "        for j in range(0,n):\n",
    "            lis.append(arr[j])\n",
    "        per.append(lis)\n",
    "    else:\n",
    "        for j in range(i,n):\n",
    "            swap(arr, i,j)\n",
    "            perm(arr, i+1, n, per)\n",
    "            #reswapping\n",
    "            swap(arr, i,j)\n",
    "\n",
    "arr_p=list()\n",
    "copy1=arr_p\n",
    "perm(arr, 0, len(arr), arr_p)\n",
    "print([arr_p[x] for x in range (len(arr_p))])\n",
    "            "
   ]
  },
  {
   "cell_type": "code",
   "execution_count": 15,
   "metadata": {},
   "outputs": [
    {
     "name": "stdout",
     "output_type": "stream",
     "text": [
      "[11, 14, 14, 17, 20, 17]\n"
     ]
    }
   ],
   "source": [
    "steps1=list()\n",
    "for i in range (len(arr_p)):\n",
    "    steps1.append(isortsteps(list(copy1[i])))\n",
    "print(steps1)"
   ]
  },
  {
   "cell_type": "markdown",
   "metadata": {},
   "source": [
    "## Gráfica de steps"
   ]
  },
  {
   "cell_type": "code",
   "execution_count": 16,
   "metadata": {},
   "outputs": [
    {
     "data": {
      "image/png": "[encoded data removed]",
      "text/plain": [
       "<Figure size 432x288 with 1 Axes>"
      ]
     },
     "metadata": {
      "needs_background": "light"
     },
     "output_type": "display_data"
    }
   ],
   "source": [
    "chart5=plt.hist(steps1)"
   ]
  },
  {
   "cell_type": "markdown",
   "metadata": {},
   "source": [
    "# Insertion Sort Comp Plot (Daniel Jimenez)"
   ]
  },
  {
   "cell_type": "code",
   "execution_count": 17,
   "metadata": {},
   "outputs": [
    {
     "name": "stdout",
     "output_type": "stream",
     "text": [
      "[2, 3, 3, 4, 5, 4]\n"
     ]
    }
   ],
   "source": [
    "comp1=list()\n",
    "for i in range (len(arr_p)):\n",
    "    comp1.append(isortcomp(list(copy1[i])))\n",
    "print(comp1)"
   ]
  },
  {
   "cell_type": "markdown",
   "metadata": {},
   "source": [
    "## Gráfica de comparaciones"
   ]
  },
  {
   "cell_type": "code",
   "execution_count": 18,
   "metadata": {},
   "outputs": [
    {
     "data": {
      "image/png": "[encoded data removed]",
      "text/plain": [
       "<Figure size 432x288 with 1 Axes>"
      ]
     },
     "metadata": {
      "needs_background": "light"
     },
     "output_type": "display_data"
    }
   ],
   "source": [
    "chart6=plt.hist(comp1)"
   ]
  },
  {
   "cell_type": "markdown",
   "metadata": {},
   "source": [
    "# Insertion Sort Swap Plot (Daniel Jimenez)"
   ]
  },
  {
   "cell_type": "code",
   "execution_count": 19,
   "metadata": {},
   "outputs": [
    {
     "name": "stdout",
     "output_type": "stream",
     "text": [
      "[0, 2, 1, 2, 3, 2]\n"
     ]
    }
   ],
   "source": [
    "swap1=list()\n",
    "for i in range (len(arr_p)):\n",
    "    swap1.append(isortswap(list(copy1[i])))\n",
    "print(swap1)"
   ]
  },
  {
   "cell_type": "markdown",
   "metadata": {},
   "source": [
    "## Gráfica de swaps"
   ]
  },
  {
   "cell_type": "code",
   "execution_count": 20,
   "metadata": {},
   "outputs": [
    {
     "data": {
      "image/png": "[encoded data removed]",
      "text/plain": [
       "<Figure size 432x288 with 1 Axes>"
      ]
     },
     "metadata": {
      "needs_background": "light"
     },
     "output_type": "display_data"
    }
   ],
   "source": [
    "chart7=plt.hist(swap1)"
   ]
  },
  {
   "cell_type": "markdown",
   "metadata": {},
   "source": [
    "# Insertion Sort While Questions (Daniel JImenez)"
   ]
  },
  {
   "cell_type": "code",
   "execution_count": 21,
   "metadata": {},
   "outputs": [
    {
     "name": "stdout",
     "output_type": "stream",
     "text": [
      "[2, 4, 3, 4, 5, 4]\n"
     ]
    }
   ],
   "source": [
    "wq1=list()\n",
    "for i in range (len(arr_p)):\n",
    "    wq1.append(isortWhileQ(list(copy1[i])))\n",
    "print(wq1)"
   ]
  },
  {
   "cell_type": "markdown",
   "metadata": {},
   "source": [
    "## Gráfica de While Questions"
   ]
  },
  {
   "cell_type": "code",
   "execution_count": 22,
   "metadata": {},
   "outputs": [
    {
     "data": {
      "image/png": "[encoded data removed]",
      "text/plain": [
       "<Figure size 432x288 with 1 Axes>"
      ]
     },
     "metadata": {
      "needs_background": "light"
     },
     "output_type": "display_data"
    }
   ],
   "source": [
    "chart8=plt.hist(wq1)"
   ]
  },
  {
   "cell_type": "markdown",
   "metadata": {},
   "source": [
    " # Funcion generadora de permutaciones para un n por los dos metodos antes descritos"
   ]
  },
  {
   "cell_type": "code",
   "execution_count": 23,
   "metadata": {},
   "outputs": [],
   "source": [
    "def perArrIter(n): # usando itertools\n",
    "    lis=list()\n",
    "    for i in range(n):\n",
    "        lis.append(i+1)\n",
    "    p=[x for x in itls.permutations(lis)]\n",
    "    return p\n",
    "\n",
    "def perArrDJ(n): #usando el código de Daniel Jimenez\n",
    "    lis=list()\n",
    "    for i in range(n):\n",
    "        lis.append(i+1)\n",
    "    p=list()\n",
    "    perm(lis, 0,n,p)\n",
    "    return p"
   ]
  },
  {
   "cell_type": "code",
   "execution_count": 24,
   "metadata": {},
   "outputs": [
    {
     "name": "stdout",
     "output_type": "stream",
     "text": [
      "[(1, 2, 3, 4), (1, 2, 4, 3), (1, 3, 2, 4), (1, 3, 4, 2), (1, 4, 2, 3), (1, 4, 3, 2), (2, 1, 3, 4), (2, 1, 4, 3), (2, 3, 1, 4), (2, 3, 4, 1), (2, 4, 1, 3), (2, 4, 3, 1), (3, 1, 2, 4), (3, 1, 4, 2), (3, 2, 1, 4), (3, 2, 4, 1), (3, 4, 1, 2), (3, 4, 2, 1), (4, 1, 2, 3), (4, 1, 3, 2), (4, 2, 1, 3), (4, 2, 3, 1), (4, 3, 1, 2), (4, 3, 2, 1)]\n"
     ]
    }
   ],
   "source": [
    "pi4= perArrIter(4)\n",
    "print([pi4[x] for x in range(len(pi4))])\n",
    "pi8=perArrIter(8)\n",
    "pi10=perArrIter(10)\n"
   ]
  },
  {
   "cell_type": "code",
   "execution_count": 25,
   "metadata": {},
   "outputs": [
    {
     "name": "stdout",
     "output_type": "stream",
     "text": [
      "[[1, 2, 3, 4], [1, 2, 4, 3], [1, 3, 2, 4], [1, 3, 4, 2], [1, 4, 3, 2], [1, 4, 2, 3], [2, 1, 3, 4], [2, 1, 4, 3], [2, 3, 1, 4], [2, 3, 4, 1], [2, 4, 3, 1], [2, 4, 1, 3], [3, 2, 1, 4], [3, 2, 4, 1], [3, 1, 2, 4], [3, 1, 4, 2], [3, 4, 1, 2], [3, 4, 2, 1], [4, 2, 3, 1], [4, 2, 1, 3], [4, 3, 2, 1], [4, 3, 1, 2], [4, 1, 3, 2], [4, 1, 2, 3]]\n"
     ]
    }
   ],
   "source": [
    "pd4= perArrDJ(4)\n",
    "print([pd4[x] for x in range(len(pd4))])\n",
    "pd8=perArrDJ(8)\n",
    "pd10=perArrDJ(10)"
   ]
  },
  {
   "cell_type": "markdown",
   "metadata": {},
   "source": [
    "# graficas para insertion sort steps"
   ]
  },
  {
   "cell_type": "code",
   "execution_count": 26,
   "metadata": {},
   "outputs": [
    {
     "data": {
      "image/png": "[encoded data removed]",
      "text/plain": [
       "<Figure size 432x288 with 1 Axes>"
      ]
     },
     "metadata": {
      "needs_background": "light"
     },
     "output_type": "display_data"
    }
   ],
   "source": [
    "stepsi4=list()\n",
    "for i in range (len(pi4)):\n",
    "    stepsi4.append(isortsteps(list(pi4[i])))\n",
    "stepsi8=list()\n",
    "for i in range (len(pi8)):\n",
    "    stepsi8.append(isortsteps(list(pi8[i])))\n",
    "stepsi10=list()\n",
    "for i in range (len(pi10)):\n",
    "    stepsi10.append(isortsteps(list(pi10[i])))\n",
    "chart9= plt.hist(stepsi4)\n"
   ]
  },
  {
   "cell_type": "code",
   "execution_count": 27,
   "metadata": {},
   "outputs": [
    {
     "data": {
      "image/png": "[encoded data removed]",
      "text/plain": [
       "<Figure size 432x288 with 1 Axes>"
      ]
     },
     "metadata": {
      "needs_background": "light"
     },
     "output_type": "display_data"
    }
   ],
   "source": [
    "chart10=plt.hist(stepsi8)"
   ]
  },
  {
   "cell_type": "code",
   "execution_count": 28,
   "metadata": {},
   "outputs": [
    {
     "data": {
      "image/png": "[encoded data removed]",
      "text/plain": [
       "<Figure size 432x288 with 1 Axes>"
      ]
     },
     "metadata": {
      "needs_background": "light"
     },
     "output_type": "display_data"
    }
   ],
   "source": [
    "chart11=plt.hist(stepsi10)"
   ]
  },
  {
   "cell_type": "code",
   "execution_count": 30,
   "metadata": {},
   "outputs": [
    {
     "data": {
      "image/png": "[encoded data removed]",
      "text/plain": [
       "<Figure size 432x288 with 1 Axes>"
      ]
     },
     "metadata": {
      "needs_background": "light"
     },
     "output_type": "display_data"
    }
   ],
   "source": [
    "stepsd4=list()\n",
    "for i in range (len(pd4)):\n",
    "    stepsd4.append(isortsteps(list(pd4[i])))\n",
    "stepsd8=list()\n",
    "for i in range (len(pd8)):\n",
    "    stepsd8.append(isortsteps(list(pd8[i])))\n",
    "stepsd10=list()\n",
    "for i in range (len(pd10)):\n",
    "    stepsd10.append(isortsteps(list(pd10[i])))\n",
    "chart12= plt.hist(stepsd4)"
   ]
  },
  {
   "cell_type": "code",
   "execution_count": 31,
   "metadata": {},
   "outputs": [
    {
     "data": {
      "image/png": "[encoded data removed]",
      "text/plain": [
       "<Figure size 432x288 with 1 Axes>"
      ]
     },
     "metadata": {
      "needs_background": "light"
     },
     "output_type": "display_data"
    }
   ],
   "source": [
    "chart13=plt.hist(stepsd8)"
   ]
  },
  {
   "cell_type": "code",
   "execution_count": 32,
   "metadata": {},
   "outputs": [
    {
     "data": {
      "image/png": "[encoded data removed]",
      "text/plain": [
       "<Figure size 432x288 with 1 Axes>"
      ]
     },
     "metadata": {
      "needs_background": "light"
     },
     "output_type": "display_data"
    }
   ],
   "source": [
    "chart14=plt.hist(stepsd10)"
   ]
  }
 ],
 "metadata": {
  "kernelspec": {
   "display_name": "Python 3",
   "language": "python",
   "name": "python3"
  },
  "language_info": {
   "codemirror_mode": {
    "name": "ipython",
    "version": 3
   },
   "file_extension": ".py",
   "mimetype": "text/x-python",
   "name": "python",
   "nbconvert_exporter": "python",
   "pygments_lexer": "ipython3",
   "version": "3.6.5"
  }
 },
 "nbformat": 4,
 "nbformat_minor": 2
}
