{
 "cells": [
  {
   "cell_type": "markdown",
   "metadata": {},
   "source": [
    "# Fibonacci para n terminos vs tiempo de ejecución"
   ]
  },
  {
   "cell_type": "markdown",
   "metadata": {},
   "source": [
    "## función para determinar el termino n-esimo"
   ]
  },
  {
   "cell_type": "code",
   "execution_count": 1,
   "metadata": {},
   "outputs": [],
   "source": [
    "def fibo(n):\n",
    "    p=1\n",
    "    f=1\n",
    "    for i in range(int(n-2)):\n",
    "        aux=p\n",
    "        p=f\n",
    "        f+=aux\n",
    "    return f\n",
    "\n",
    "    "
   ]
  },
  {
   "cell_type": "markdown",
   "metadata": {},
   "source": [
    "Teniendo en cuenta el algoritmo antes establecido se definen las siguientes funciones que tienen como objetivo capturar el tiempo que demora la ejecución del mismo y hacer una grafica comparativa entre tiempo y n-esimo termino:"
   ]
  },
  {
   "cell_type": "markdown",
   "metadata": {},
   "source": [
    "## funcion para determinar el tiempo de ejecución"
   ]
  },
  {
   "cell_type": "code",
   "execution_count": 2,
   "metadata": {},
   "outputs": [],
   "source": [
    "from time import time\n",
    "# necesario para calcular los tiempos\n",
    "\n",
    "def exeTime(n):\n",
    "    start_time= time()\n",
    "    fibo(int(n))\n",
    "    total_time=time()-start_time\n",
    "    return total_time\n",
    "\n",
    "\n"
   ]
  },
  {
   "cell_type": "markdown",
   "metadata": {},
   "source": [
    "## función para almacenar los tiempos"
   ]
  },
  {
   "cell_type": "code",
   "execution_count": 3,
   "metadata": {},
   "outputs": [],
   "source": [
    "def times_array (n):\n",
    "    times=[]\n",
    "#arreglo que guarda los tiempos para cada n\n",
    "    for i in range(n):\n",
    "        t=exeTime(i)\n",
    "        times.append(t)\n",
    "    return times"
   ]
  },
  {
   "cell_type": "markdown",
   "metadata": {},
   "source": [
    "## grafica de los tiempos en función de n"
   ]
  },
  {
   "cell_type": "code",
   "execution_count": 4,
   "metadata": {
    "scrolled": false
   },
   "outputs": [
    {
     "data": {
      "image/png": "[encoded data removed]",
      "text/plain": [
       "<matplotlib.figure.Figure at 0x7618bb0>"
      ]
     },
     "metadata": {},
     "output_type": "display_data"
    }
   ],
   "source": [
    "import matplotlib.pyplot as plt\n",
    "%matplotlib inline # esta linea permite que el grafico pueda ser mostrado en la misma celda.\n",
    "#importante para realizar graficos en python\n",
    "\n",
    "plt.plot(times_array(10000))\n",
    "plt.show()"
   ]
  },
  {
   "cell_type": "markdown",
   "metadata": {},
   "source": [
    "### Conclusión"
   ]
  },
  {
   "cell_type": "markdown",
   "metadata": {},
   "source": [
    "A grandes rasgos se puede evidenciar que nuestra funcion **_fibo_** tiene un crecimiento exponencial mientras la **_n_** aumenta de valor"
   ]
  }
 ],
 "metadata": {
  "kernelspec": {
   "display_name": "Python 3",
   "language": "python",
   "name": "python3"
  },
  "language_info": {
   "codemirror_mode": {
    "name": "ipython",
    "version": 3
   },
   "file_extension": ".py",
   "mimetype": "text/x-python",
   "name": "python",
   "nbconvert_exporter": "python",
   "pygments_lexer": "ipython3",
   "version": "3.6.4"
  }
 },
 "nbformat": 4,
 "nbformat_minor": 2
}
